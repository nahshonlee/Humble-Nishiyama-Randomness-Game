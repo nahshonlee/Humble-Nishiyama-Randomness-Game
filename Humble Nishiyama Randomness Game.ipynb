{
 "cells": [
  {
   "cell_type": "markdown",
   "metadata": {},
   "source": [
    "## Introduction to the Humble Nishiyama Randomness Game\n",
    "Suppose we have a standard deck of poker cards. For the game, we will be drawing cards, and we keep track of the color of the card.\n",
    "\n",
    "2 players each choose a sequence of 3 colors, Black or Red. We can choose any combi, i.e. RBR, BRR, RBB etc. for a total of 8 possible combinations. For purposes of illustration, suppose Player 1 chooses RRR, and Player 2 chooses BBB. \n",
    "\n",
    "**Version 1 - First Occurrence Rule:**\n",
    "- Continuously draw cards until a RRR or BBB sequence occurs. Whoever draws their said sequence first gains 1 point.\n",
    "- For example, if the sequence drawn is RBBRRBRBRRR, player 1 will gain a point.\n",
    "- Repeat the process for 1000 rounds, and whoever has the highest points win.\n",
    "\n",
    "**Version 2 - Full Deck Rule:**\n",
    "- As per version 1, continuously draw cards until a RRR or BBB sequence is observed. \n",
    "- If RRR sequence appears, player 1 earns 1 trick, and we discard all cards previously drawn. Likewise, if a BBB sequence appears, player 2 earns 1 trick, and we discard all cards previously drawn. \n",
    "- Continue to draw and look for RRR and BBB sequence until all 52 cards have been drawn. Whoever has the most tricks at the end of the round will win 1 point (if both players have the same number of tricks, it is considered a draw). \n",
    "- Repeat the process for for 1000 rounds, and whoever has the most points wins."
   ]
  },
  {
   "cell_type": "markdown",
   "metadata": {},
   "source": [
    "## Creating Card and Deck classes\n"
   ]
  },
  {
   "cell_type": "code",
   "execution_count": 1,
   "metadata": {},
   "outputs": [],
   "source": [
    "from random import shuffle\n",
    "\n",
    "class Card:\n",
    "    def __init__(self, rank, suit): \n",
    "        specialCards = {11: 'J', 12: 'Q', 13: 'K', 1: 'A'}\n",
    "        rank_name = specialCards[rank] if rank in specialCards else rank\n",
    "        \n",
    "        self.rank = rank_name\n",
    "        self.suit = suit\n",
    "        if self.suit in ['S', 'C']:\n",
    "            self.color = 'B'\n",
    "        else:\n",
    "            self.color = 'R'\n",
    "        \n",
    "    def __str__(self): \n",
    "        return '{}{}'.format(self.rank, self.suit)\n",
    "\n",
    "class Deck:\n",
    "    def __init__(self): \n",
    "        self.card_list = [Card(rank, suit) for suit in ['S', 'H', 'D', 'C'] for rank in range(1, 14)]\n",
    "        self.length = len(self.card_list)\n",
    "    \n",
    "    def shuffle_cards(self): \n",
    "        return shuffle(self.card_list)\n",
    "    \n",
    "    def show_all_cards(self):\n",
    "        for card in self.card_list:\n",
    "            print(card)\n",
    "    \n",
    "    def draw(self):\n",
    "        self.length -= 1\n",
    "        return self.card_list.pop()"
   ]
  },
  {
   "cell_type": "markdown",
   "metadata": {},
   "source": [
    "## Game functions\n",
    "The following functions will generate the process of the game. They perform the following:\n",
    "- first_occurrence(player_1, player_2): Used for **Version 1** of the game. Stops drawing a card when the first instance of the player 1 or player 2's chosen sequence appears.\n",
    "- full_deck(): Used for **Version 2** of the game. Creates a sequence of 52 draws.\n",
    "- allocate_tricks(sequence, player_1, player_2): Used for **Version 2** of the game. After a sequence is drawn using full_deck(), we go through the sequence until the first instance of player 1 or player 2's chosen sequence appear. We discard all cards previously drawn, and repeat the process until all 52 cards have been exhausted.\n",
    "- game(player_1, player_2, num_iter, first_instance): Inputs for player 1 and player 2's chosen sequence, number of iterations to play over, and determines which version of the game we play. ***This function will be called to play the game***."
   ]
  },
  {
   "cell_type": "code",
   "execution_count": 2,
   "metadata": {},
   "outputs": [],
   "source": [
    "def first_occurrence(player_1, player_2):\n",
    "    deck = Deck()\n",
    "    deck.shuffle_cards()\n",
    "    sequence = []\n",
    "    drawn_card_history = []\n",
    "    \n",
    "    combined = [player_1, player_2]\n",
    "    \n",
    "    # Check if player_1 or player_2 sequence has been drawn, and check if all cards has been drawn\n",
    "    while not any(x in ''.join(sequence) for x in combined) and deck.length > 0:\n",
    "        drawn_card = deck.draw()\n",
    "        sequence.append(drawn_card.color)\n",
    "        drawn_card_history.append(drawn_card.__str__())\n",
    "\n",
    "    return sequence, drawn_card_history\n",
    "    \n",
    "def full_deck():\n",
    "    deck = Deck()\n",
    "    deck.shuffle_cards()\n",
    "    sequence = []\n",
    "    drawn_card_history = []\n",
    "    \n",
    "    # Since we are interested in the entire sequence of 52 cards drawn, we draw all 52 cards\n",
    "    while deck.length > 0:\n",
    "        drawn_card = deck.draw()\n",
    "        sequence.append(drawn_card.color)\n",
    "        drawn_card_history.append(drawn_card.__str__())\n",
    "\n",
    "    return sequence, drawn_card_history\n",
    "    \n",
    "def allocate_tricks(sequence, player_1, player_2):\n",
    "    player_1_count, player_2_count = 0, 0\n",
    "    \n",
    "    # find the first instance where the sequence chosen by player 1 and player 2 first appears\n",
    "    index_1, index_2 = sequence.find(player_1), sequence.find(player_2)\n",
    "    \n",
    "    # if index = -1, means the player 1 and player 2's sequence no longer appears in the drawn sequences\n",
    "    while index_1 != -1 and index_2 != -1:\n",
    "        \n",
    "        # Smaller index means the sequence is drawn and appears first. Hence, the trick will belong to the player with a smaller index\n",
    "        winner = min(index_1, index_2)\n",
    "        if index_1 < index_2:\n",
    "            player_1_count += 1\n",
    "        else:\n",
    "            player_2_count += 1\n",
    "        \n",
    "        # Remove all draws prior to the winner's sequence, and repeat the process in the while loop\n",
    "        sequence = sequence[winner + 3:]\n",
    "        \n",
    "        index_1, index_2 = sequence.find(player_1), sequence.find(player_2)\n",
    "    return player_1_count, player_2_count\n",
    "\n",
    "def game(player_1, player_2, num_iter, first_instance):\n",
    "    player_1_win, player_2_win, draw = 0, 0, 0\n",
    "    \n",
    "    # Version 1 of the game\n",
    "    if first_instance == True:\n",
    "        for i in range(num_iter):\n",
    "            sequence, drawn_card_history = first_occurrence(player_1, player_2)\n",
    "            sequence = ''.join(sequence)\n",
    "\n",
    "            if player_1 in sequence:\n",
    "                player_1_win += 1\n",
    "            elif player_2 in sequence:\n",
    "                player_2_win += 1\n",
    "            else:\n",
    "                draw += 1\n",
    "    \n",
    "    # Version 2 of the game\n",
    "    else:\n",
    "        for i in range(num_iter):\n",
    "            sequence, drawn_card_history = full_deck()\n",
    "            sequence = ''.join(sequence)\n",
    "            player_1_count, player_2_count = allocate_tricks(sequence, player_1, player_2)\n",
    "            if player_1_count > player_2_count:\n",
    "                player_1_win += 1\n",
    "            elif player_1_count < player_2_count:\n",
    "                player_2_win += 1\n",
    "            else:\n",
    "                draw += 1\n",
    "        \n",
    "    return 'Player 1 wins: {}, Player 2 wins: {}, Draw: {}'.format(player_1_win, player_2_win, draw)"
   ]
  },
  {
   "cell_type": "markdown",
   "metadata": {},
   "source": [
    "## Trick to winning the game for Player 2\n",
    "For this section, we assume that player 2 chooses his sequence after player 1. Because of the non-transitive properties of the game, player 2 always has the advantage of choosing a sequence in response to player 1's sequence.\n",
    "\n",
    "The strategy for Player 2 is as follows:\n",
    "- Take the second color from player 1's chosen sequence, and choose the opposite color. This will form the first color of player 2's sequence\n",
    "- Take the first and second color from player 1's chosen color, and append it to the end of player 2's first color, making it the second and third color respectively.\n",
    "\n",
    "The following examples will illustrate this example (format as such: Player 1 sequence --> Player 2 sequence):\n",
    "- BBB --> RBB\n",
    "- BBR --> RBB\n",
    "- BRB --> BBR\n",
    "- BRR --> BBR\n",
    "- RBB --> RRB\n",
    "- RBR --> RRB\n",
    "- RRB --> BRR\n",
    "- RRR --> BRR"
   ]
  },
  {
   "cell_type": "code",
   "execution_count": 3,
   "metadata": {},
   "outputs": [
    {
     "data": {
      "text/plain": [
       "'Player 1 wins: 118, Player 2 wins: 882, Draw: 0'"
      ]
     },
     "execution_count": 3,
     "metadata": {},
     "output_type": "execute_result"
    }
   ],
   "source": [
    "player_1 = 'BBB'\n",
    "player_2 = 'RBB'\n",
    "\n",
    "game(player_1, player_2, 1000, first_instance = True)"
   ]
  },
  {
   "cell_type": "code",
   "execution_count": 4,
   "metadata": {},
   "outputs": [
    {
     "data": {
      "text/plain": [
       "'Player 1 wins: 235, Player 2 wins: 765, Draw: 0'"
      ]
     },
     "execution_count": 4,
     "metadata": {},
     "output_type": "execute_result"
    }
   ],
   "source": [
    "player_1 = 'BBR'\n",
    "player_2 = 'RBB'\n",
    "\n",
    "game(player_1, player_2, 1000, first_instance = True)"
   ]
  },
  {
   "cell_type": "code",
   "execution_count": 5,
   "metadata": {},
   "outputs": [
    {
     "data": {
      "text/plain": [
       "'Player 1 wins: 328, Player 2 wins: 672, Draw: 0'"
      ]
     },
     "execution_count": 5,
     "metadata": {},
     "output_type": "execute_result"
    }
   ],
   "source": [
    "player_1 = 'BRB'\n",
    "player_2 = 'BBR'\n",
    "\n",
    "game(player_1, player_2, 1000, first_instance = True)"
   ]
  },
  {
   "cell_type": "code",
   "execution_count": 6,
   "metadata": {},
   "outputs": [
    {
     "data": {
      "text/plain": [
       "'Player 1 wins: 351, Player 2 wins: 649, Draw: 0'"
      ]
     },
     "execution_count": 6,
     "metadata": {},
     "output_type": "execute_result"
    }
   ],
   "source": [
    "player_1 = 'BRR'\n",
    "player_2 = 'BBR'\n",
    "\n",
    "game(player_1, player_2, 1000, first_instance = True)"
   ]
  },
  {
   "cell_type": "code",
   "execution_count": 7,
   "metadata": {},
   "outputs": [
    {
     "data": {
      "text/plain": [
       "'Player 1 wins: 294, Player 2 wins: 706, Draw: 0'"
      ]
     },
     "execution_count": 7,
     "metadata": {},
     "output_type": "execute_result"
    }
   ],
   "source": [
    "player_1 = 'RBB'\n",
    "player_2 = 'RRB'\n",
    "\n",
    "game(player_1, player_2, 1000, first_instance = True)"
   ]
  },
  {
   "cell_type": "code",
   "execution_count": 8,
   "metadata": {},
   "outputs": [
    {
     "data": {
      "text/plain": [
       "'Player 1 wins: 340, Player 2 wins: 660, Draw: 0'"
      ]
     },
     "execution_count": 8,
     "metadata": {},
     "output_type": "execute_result"
    }
   ],
   "source": [
    "player_1 = 'RBR'\n",
    "player_2 = 'RRB'\n",
    "\n",
    "game(player_1, player_2, 1000, first_instance = True)"
   ]
  },
  {
   "cell_type": "code",
   "execution_count": 9,
   "metadata": {},
   "outputs": [
    {
     "data": {
      "text/plain": [
       "'Player 1 wins: 240, Player 2 wins: 760, Draw: 0'"
      ]
     },
     "execution_count": 9,
     "metadata": {},
     "output_type": "execute_result"
    }
   ],
   "source": [
    "player_1 = 'RRB'\n",
    "player_2 = 'BRR'\n",
    "\n",
    "game(player_1, player_2, 1000, first_instance = True)"
   ]
  },
  {
   "cell_type": "code",
   "execution_count": 10,
   "metadata": {},
   "outputs": [
    {
     "data": {
      "text/plain": [
       "'Player 1 wins: 113, Player 2 wins: 887, Draw: 0'"
      ]
     },
     "execution_count": 10,
     "metadata": {},
     "output_type": "execute_result"
    }
   ],
   "source": [
    "player_1 = 'RRR'\n",
    "player_2 = 'BRR'\n",
    "\n",
    "game(player_1, player_2, 1000, first_instance = True)"
   ]
  }
 ],
 "metadata": {
  "kernelspec": {
   "display_name": "Python 3",
   "language": "python",
   "name": "python3"
  },
  "language_info": {
   "codemirror_mode": {
    "name": "ipython",
    "version": 3
   },
   "file_extension": ".py",
   "mimetype": "text/x-python",
   "name": "python",
   "nbconvert_exporter": "python",
   "pygments_lexer": "ipython3",
   "version": "3.6.5"
  }
 },
 "nbformat": 4,
 "nbformat_minor": 2
}
